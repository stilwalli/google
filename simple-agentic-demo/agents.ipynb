{
 "cells": [
  {
   "cell_type": "code",
   "execution_count": 1,
   "metadata": {},
   "outputs": [],
   "source": [
    "import vertexai\n",
    "from vertexai.generative_models import GenerativeModel, Part"
   ]
  },
  {
   "cell_type": "code",
   "execution_count": 6,
   "metadata": {},
   "outputs": [],
   "source": [
    "vertexai.init(project='scratchzone', location='us-central1')\n",
    "\n",
    "# Create the Gemini Flash model\n",
    "model = GenerativeModel(\"gemini-1.5-flash\")\n"
   ]
  },
  {
   "cell_type": "code",
   "execution_count": 8,
   "metadata": {},
   "outputs": [
    {
     "ename": "TypeError",
     "evalue": "_GenerativeModel.start_chat() takes 1 positional argument but 2 were given",
     "output_type": "error",
     "traceback": [
      "\u001b[0;31m---------------------------------------------------------------------------\u001b[0m",
      "\u001b[0;31mTypeError\u001b[0m                                 Traceback (most recent call last)",
      "Cell \u001b[0;32mIn[8], line 2\u001b[0m\n\u001b[1;32m      1\u001b[0m prompt \u001b[38;5;241m=\u001b[39m \u001b[38;5;124m\"\u001b[39m\u001b[38;5;124mExplain quantum computing in simple terms\u001b[39m\u001b[38;5;124m\"\u001b[39m\n\u001b[0;32m----> 2\u001b[0m code_chat \u001b[38;5;241m=\u001b[39m \u001b[43mmodel\u001b[49m\u001b[38;5;241;43m.\u001b[39;49m\u001b[43mstart_chat\u001b[49m\u001b[43m(\u001b[49m\u001b[38;5;124;43m\"\u001b[39;49m\u001b[38;5;124;43mtest\u001b[39;49m\u001b[38;5;124;43m\"\u001b[39;49m\u001b[43m)\u001b[49m\n\u001b[1;32m      4\u001b[0m response \u001b[38;5;241m=\u001b[39m code_chat\u001b[38;5;241m.\u001b[39msend_message(\n\u001b[1;32m      5\u001b[0m     \u001b[38;5;124m\"\u001b[39m\u001b[38;5;124mExplain quantum computing in simple terms\u001b[39m\u001b[38;5;124m\"\u001b[39m\n\u001b[1;32m      6\u001b[0m )\n\u001b[1;32m      8\u001b[0m \u001b[38;5;28mprint\u001b[39m(response\u001b[38;5;241m.\u001b[39mtext)\n",
      "\u001b[0;31mTypeError\u001b[0m: _GenerativeModel.start_chat() takes 1 positional argument but 2 were given"
     ]
    }
   ],
   "source": [
    "prompt = \"Explain quantum computing in simple terms\"\n",
    "code_chat = model.start_chat(\"test\")\n",
    "\n",
    "response = code_chat.send_message(\n",
    "    \"Explain quantum computing in simple terms\"\n",
    ")\n",
    "\n",
    "print(response.text)\n",
    "#response = model.generate_content(prompt)"
   ]
  },
  {
   "cell_type": "code",
   "execution_count": 4,
   "metadata": {},
   "outputs": [
    {
     "name": "stdout",
     "output_type": "stream",
     "text": [
      "Imagine a regular computer like a light switch - it can be either on or off, representing 1 or 0. This is how classical computers work, using bits.\n",
      "\n",
      "Now imagine a special switch that can be both on and off at the same time! This is the idea behind **quantum bits (qubits)**. They use the weirdness of quantum mechanics to be in multiple states at once, like a blurry switch that's partly on and partly off.\n",
      "\n",
      "This \"blurry\" state is called **superposition**, and it allows quantum computers to explore many possibilities simultaneously. Think of it like searching through a maze – a regular computer checks each path one by one, while a quantum computer checks all paths at once!\n",
      "\n",
      "Another important aspect is **entanglement**. Imagine two entangled qubits like two connected coins.  Flipping one coin instantly determines the state of the other, even if they're miles apart. This connection allows quantum computers to perform calculations much faster than classical computers.\n",
      "\n",
      "**So, what can quantum computers do?**\n",
      "\n",
      "* **Break complex codes:**  The same weirdness that allows qubits to be in multiple states at once can be used to crack the encryption algorithms that keep our data safe.\n",
      "* **Develop new materials:**  Quantum computers can simulate the behaviour of molecules with unprecedented accuracy, leading to the development of new drugs and materials.\n",
      "* **Optimize logistics:**  Quantum computers can help find the most efficient routes for delivery trucks and optimize complex supply chains.\n",
      "\n",
      "**But, it's still early days for quantum computing.**\n",
      "\n",
      "Building and controlling qubits is incredibly difficult, and quantum computers are still very experimental.  They're not going to replace your laptop anytime soon, but they hold immense potential for solving problems that are impossible for classical computers. \n",
      "\n",
      "It's like having a super-powered calculator for specific tasks, and it's a field that's constantly evolving. \n",
      "\n"
     ]
    }
   ],
   "source": [
    "print(response.text)"
   ]
  },
  {
   "cell_type": "code",
   "execution_count": null,
   "metadata": {},
   "outputs": [],
   "source": []
  }
 ],
 "metadata": {
  "kernelspec": {
   "display_name": "gemini_env",
   "language": "python",
   "name": "python3"
  },
  "language_info": {
   "codemirror_mode": {
    "name": "ipython",
    "version": 3
   },
   "file_extension": ".py",
   "mimetype": "text/x-python",
   "name": "python",
   "nbconvert_exporter": "python",
   "pygments_lexer": "ipython3",
   "version": "3.12.6"
  }
 },
 "nbformat": 4,
 "nbformat_minor": 2
}
